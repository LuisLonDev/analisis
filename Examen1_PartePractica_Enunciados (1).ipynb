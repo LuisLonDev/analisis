{
 "cells": [
  {
   "cell_type": "markdown",
   "metadata": {},
   "source": [
    "## Examen 1: Parte práctica\n",
    "\n",
    "Los siguientes son los ejercicios de programación que corresponden a la parte práctica del examen 1 de Análisis de datos.\n",
    "\n",
    "\n",
    "No está permitido importar librerías adicionales a las que se sugieran en los ejercicios (solo se puede importar numpy).\n",
    "\n",
    "\n",
    "#### Nota: Usted puede escoger 4 de estos 5 ejercicios para ser realizados. Se evaluarán solo los 4 escogidos .\n",
    "#### En caso de que usted no especifique claramente en este notebook cuales fueron los 4 escogidos por usted, se asumirá que fueron los primeros 4 de este notebook.\n",
    "\n"
   ]
  },
  {
   "cell_type": "code",
   "execution_count": 2,
   "metadata": {},
   "outputs": [],
   "source": [
    "#Puntos escogidos son:\n"
   ]
  },
  {
   "cell_type": "markdown",
   "metadata": {},
   "source": [
    "### Al finalizar, envíe el notebook ya ejecutado (con las respectivas salidas) al correo nprieto@udemedellin.edu.co, tanto en .ipynb como en .html (en la opción File -> Download as, seleccionar Html y ipynb)."
   ]
  },
  {
   "cell_type": "markdown",
   "metadata": {},
   "source": [
    "#### Ejercicio 1\n",
    "\n",
    "Cree una función que reciba dos cadenas de longitud diferente. La función debe retornar una cadena que consista de la palabra larga repetida 3 veces seguida de la palabra corta repetida 2 veces.\n",
    "\n",
    "Ejemplos:\n",
    "\n",
    "funcion(\"rojo\", \"pez\") -> \"rojorojorojopezpez\"\n",
    "\n",
    "funcion(\"paz\",\"foca\") -> \"focafocafocapazpaz\"\n",
    "\n",
    "funcion(\"lente\", \"casa\") -> \"lentelentelentecasacasa\""
   ]
  },
  {
   "cell_type": "code",
   "execution_count": 2,
   "metadata": {},
   "outputs": [
    {
     "data": {
      "text/plain": [
       "'focafocafocapazpaz'"
      ]
     },
     "execution_count": 2,
     "metadata": {},
     "output_type": "execute_result"
    }
   ],
   "source": [
    "#Solucion\n",
    "def long_short(word1, word2):\n",
    "    if(len(word1)>len(word2)):\n",
    "        return word1*3 + word2*2\n",
    "    \n",
    "    return word2*3 + word1*2\n",
    "\n",
    "long_short(\"paz\",\"foca\")\n"
   ]
  },
  {
   "cell_type": "markdown",
   "metadata": {},
   "source": [
    "#### Ejercicio 2\n",
    "\n",
    "Cree una función que reciba como entrada 3 números enteros. La función debe retornar True si alguno de los valores es 24, si la suma de los tres es 24 o si la multiplicación entre cualquier par de ellos es 24. En caso contrario, debe retornar False.\n",
    "\n",
    "Ejemplos:\n",
    "\n",
    "funcion(1,2,3) -> False\n",
    "\n",
    "funcion(10,20,30) -> False\n",
    "\n",
    "funcion(6,15,4) -> True\n",
    "\n",
    "funcion(24,30,32) -> True\n",
    "\n",
    "funcion(8,10,6) -> True\n"
   ]
  },
  {
   "cell_type": "code",
   "execution_count": 7,
   "metadata": {},
   "outputs": [
    {
     "data": {
      "text/plain": [
       "True"
      ]
     },
     "execution_count": 7,
     "metadata": {},
     "output_type": "execute_result"
    }
   ],
   "source": [
    "# Solucion\n",
    "\n",
    "def twenty_four(num1, num2, num3):\n",
    "    return num1 == 24 or num2 == 24 or num3 ==24 or num1+num2+num3 == 24 or num1*num2 == 24 or num1*num3 ==24 or num2*num3 == 24\n",
    "\n",
    "twenty_four(8,10,6)"
   ]
  },
  {
   "cell_type": "markdown",
   "metadata": {},
   "source": [
    "#### Ejercicio 3\n",
    "\n",
    "Cree de 3 formas diferentes una secuencia de los cubos de los números entre 1 y 80 que sean múltiplos de 5 (es decir, que sean divisibles entre 5):\n",
    "\n",
    "1. Con un ciclo que itere del 1 al 80 y seleccione solo los múltiplos de 5, y añada sus cubos a una lista.\n",
    "2. Usando una lista por comprensión, que itere del 1 al 80 y seleccione de forma condicional los múltiplos de 5 y saque sus cubos.\n",
    "3. Creando el arreglo de números de 1 al 80 en numpy con los múltiplos de 5 y sacarles su cubo usando Numpy (sin ciclos for).\n",
    "\n",
    "\n"
   ]
  },
  {
   "cell_type": "markdown",
   "metadata": {},
   "source": [
    "NOTA: el cubo de un número es elevarlo a la 3. Por ejemplo, el cubo de 3 es 27. \n",
    "\n",
    "Pista: la secuencia a generar empezaría así: 125, 1000, ..."
   ]
  },
  {
   "cell_type": "code",
   "execution_count": 12,
   "metadata": {},
   "outputs": [
    {
     "name": "stdout",
     "output_type": "stream",
     "text": [
      "[125, 1000, 3375, 8000, 15625, 27000, 42875, 64000, 91125, 125000, 166375, 216000, 274625, 343000, 421875]\n"
     ]
    }
   ],
   "source": [
    "# Forma 1\n",
    "cubes_iterative = []\n",
    "for n in range (1, 80):\n",
    "    if(n%5 ==0):\n",
    "        cubes_iterative.append(n**3)\n",
    "\n",
    "print(cubes_iterative)"
   ]
  },
  {
   "cell_type": "code",
   "execution_count": 13,
   "metadata": {},
   "outputs": [
    {
     "name": "stdout",
     "output_type": "stream",
     "text": [
      "[125, 1000, 3375, 8000, 15625, 27000, 42875, 64000, 91125, 125000, 166375, 216000, 274625, 343000, 421875]\n"
     ]
    }
   ],
   "source": [
    "# Forma 2\n",
    "cubes_inline = [n**3 for n in range (1, 80) if n%5 == 0]\n",
    "\n",
    "print(cubes_inline)"
   ]
  },
  {
   "cell_type": "code",
   "execution_count": 19,
   "metadata": {},
   "outputs": [
    {
     "name": "stdout",
     "output_type": "stream",
     "text": [
      "[   125   1000   3375   8000  15625  27000  42875  64000  91125 125000\n",
      " 166375 216000 274625 343000 421875]\n"
     ]
    }
   ],
   "source": [
    "# Forma 3\n",
    "import numpy as np\n",
    "\n",
    "cubes_numpy = np.power( np.arange(5,80,5), 3)\n",
    "\n",
    "print(cubes_numpy)"
   ]
  },
  {
   "cell_type": "markdown",
   "metadata": {},
   "source": [
    "#### Ejercicio 4\n",
    "\n",
    "Cree una función que reciba como entrada dos listas de palabras. La función debe retornar una nueva lista que contenga todas las palabras de la primera y de la segunda lista, excepto cuando dicha palabra sea \"error\" u \"omitir\".\n",
    "\n",
    "\n",
    "\n",
    "Ejemplos:\n",
    "\n",
    "funcion([\"casa\", \"feliz\", \"árbol\"], [\"omitir\", \"error\", \"cama\"]) -> [\"casa\", \"feliz\", \"árbol\", \"cama\"]\n",
    "\n",
    "funcion([\"casa\", \"omitir\"], [\"perro\", \"error\", \"cama\", \"gato\"]) -> [\"casa\", \"perro\", \"cama\", \"gato\"]\n",
    "\n",
    "funcion([\"verde\", \"omitir\"], [\"error\", \"error\"]) -> [\"verde\"]\n",
    "\n",
    "funcion([\"verde\", \"azul\"], [\"rojo\", \"negro\", \"gris\", \"error\"]) -> [\"verde\", \"azul\", \"rojo\", \"negro\", \"gris\"]"
   ]
  },
  {
   "cell_type": "code",
   "execution_count": 22,
   "metadata": {},
   "outputs": [
    {
     "name": "stdout",
     "output_type": "stream",
     "text": [
      "['casa', 'perro', 'cama', 'gato']\n"
     ]
    }
   ],
   "source": [
    "# Solucion\n",
    "def merge_lists(list1, list2):\n",
    "    final_list = []\n",
    "    \n",
    "    for n in list1:\n",
    "        if(n != \"error\" and n != \"omitir\"):\n",
    "            final_list.append(n)\n",
    "    for n in list2:\n",
    "        if(n != \"error\" and n != \"omitir\"):\n",
    "            final_list.append(n)\n",
    "    return final_list\n",
    "\n",
    "print(merge_lists([\"casa\", \"omitir\"], [\"perro\", \"error\", \"cama\", \"gato\"]))\n"
   ]
  },
  {
   "cell_type": "markdown",
   "metadata": {},
   "source": [
    "#### Ejercicio 5\n",
    "\n",
    "Definamos una matriz de identidad \"al revés\" como una matriz cuadrada (mismo número de filas y columnas) donde hay ceros en la diagonal y unos en el resto de los valores de la matriz.\n",
    "\n",
    "Usando la librería numpy, Cree una función que reciba como entrada el rango de la matriz \"de identidad al revés\" a generar (es decir, el número de filas y columnas que tendría) y retorne dicha matriz.\n",
    "\n",
    "NOTA: tenga en cuenta que 0 y -0 son exactamente iguales.\n",
    "\n",
    "Ejemplos:\n",
    "\n",
    "funcion(1) ->\n",
    "\n",
    "\\begin{bmatrix}\n",
    "0\n",
    "\\end{bmatrix}\n",
    "\n",
    "\n",
    "funcion(2) ->\n",
    "\n",
    "\\begin{bmatrix}\n",
    "0 & 1 \\\\\n",
    "1 & 0 \n",
    "\\end{bmatrix}\n",
    "\n",
    "funcion(4) -> \n",
    "\n",
    "\\begin{bmatrix}\n",
    "0 & 1 & 1 & 1 \\\\\n",
    "1 & 0 & 1 & 1 \\\\\n",
    "1 & 1 & 0 & 1 \\\\\n",
    "1 & 1 & 1 & 0 \n",
    "\\end{bmatrix}\n",
    "\n"
   ]
  },
  {
   "cell_type": "code",
   "execution_count": 26,
   "metadata": {},
   "outputs": [
    {
     "data": {
      "text/plain": [
       "array([[0, 1, 1, 1],\n",
       "       [1, 0, 1, 1],\n",
       "       [1, 1, 0, 1],\n",
       "       [1, 1, 1, 0]])"
      ]
     },
     "execution_count": 26,
     "metadata": {},
     "output_type": "execute_result"
    }
   ],
   "source": [
    "# Solucion\n",
    "import numpy as np\n",
    "\n",
    "def inverted_identity(n):\n",
    "    identity = np.eye(n)\n",
    "    inverted = np.where(identity == 1, 0, 1)\n",
    "    \n",
    "    return inverted\n",
    "\n",
    "\n",
    "inverted_identity(4) "
   ]
  },
  {
   "cell_type": "code",
   "execution_count": null,
   "metadata": {},
   "outputs": [],
   "source": []
  }
 ],
 "metadata": {
  "kernelspec": {
   "display_name": "Python 3 (ipykernel)",
   "language": "python",
   "name": "python3"
  },
  "language_info": {
   "codemirror_mode": {
    "name": "ipython",
    "version": 3
   },
   "file_extension": ".py",
   "mimetype": "text/x-python",
   "name": "python",
   "nbconvert_exporter": "python",
   "pygments_lexer": "ipython3",
   "version": "3.9.13"
  }
 },
 "nbformat": 4,
 "nbformat_minor": 4
}
